{
 "cells": [
  {
   "cell_type": "markdown",
   "metadata": {},
   "source": [
    "# Graph outlier detection\n",
    "\n",
    "We'll initially give [pygod](https://pypi.org/project/pygod/) as shot, as it [implements many different algorithms](https://pypi.org/project/pygod/#:~:text=Implemented%20Algorithms) for us to do graph outlier detection (anomaly detection).\n",
    "\n",
    "Prerequisites:\n",
    "\n",
    "- Download data using the link shared through Slack\n",
    "- Put data into `/data` folder as `/data/fraud_detection_data.feather`\n",
    "- Create conda environment by running:\n",
    "\n",
    "> `conda env create -f environment.yml -n azd_madoff && conda activate azd_madoff && pip install -r requirements.txt`\n",
    "\n",
    "Then you should be able to use the `azd_madoff` kernel in this notebook."
   ]
  },
  {
   "cell_type": "code",
   "execution_count": null,
   "metadata": {},
   "outputs": [],
   "source": [
    "%load_ext autoreload\n",
    "%autoreload 2\n",
    "\n",
    "import numpy as np\n",
    "import pandas as pd\n",
    "\n",
    "import torch\n",
    "from torch_geometric.data import Data\n",
    "\n",
    "from data_preparation import load_fraud_data, extract_node_data, extract_edge_data\n"
   ]
  },
  {
   "cell_type": "markdown",
   "metadata": {},
   "source": [
    "### Data loading"
   ]
  },
  {
   "cell_type": "code",
   "execution_count": null,
   "metadata": {},
   "outputs": [],
   "source": [
    "df_fraud_data = load_fraud_data()\n",
    "df_fraud_data.head(3)"
   ]
  },
  {
   "cell_type": "code",
   "execution_count": null,
   "metadata": {},
   "outputs": [],
   "source": [
    "df_fraud_data[\"link_type\"].value_counts(dropna=False)"
   ]
  },
  {
   "cell_type": "markdown",
   "metadata": {},
   "source": [
    "### Extract nodes and edges\n",
    "\n",
    "Unfortunately we did not prepare the data into the right format, so we need to do a bunch of data munging.\n",
    "Goal is to extract all nodes and edges separately and make sure the edges map the correct indices from the nodes."
   ]
  },
  {
   "cell_type": "code",
   "execution_count": null,
   "metadata": {},
   "outputs": [],
   "source": [
    "df_nodes = extract_node_data(df_fraud_data)\n",
    "\n",
    "df_nodes.head(3)"
   ]
  },
  {
   "cell_type": "code",
   "execution_count": null,
   "metadata": {},
   "outputs": [],
   "source": [
    "df_edges = extract_edge_data(df_fraud_data, df_nodes)\n",
    "\n",
    "df_edges.head(3)"
   ]
  },
  {
   "cell_type": "markdown",
   "metadata": {},
   "source": [
    "### Create torch.geometric Data object\n",
    "\n",
    "See https://pytorch-geometric.readthedocs.io/en/latest/generated/torch_geometric.data.Data.html#torch-geometric-data-data"
   ]
  },
  {
   "cell_type": "code",
   "execution_count": null,
   "metadata": {},
   "outputs": [],
   "source": [
    "# x (torch.Tensor, optional) – Node feature matrix with shape [num_nodes, num_node_features]. (default: None)\n",
    "x = df_nodes[[\"node_type_int\"]].to_numpy()\n",
    "x"
   ]
  },
  {
   "cell_type": "code",
   "execution_count": null,
   "metadata": {},
   "outputs": [],
   "source": [
    "# edge_index (LongTensor, optional) – Graph connectivity in COO format with shape [2, num_edges]. (default: None)\n",
    "edge_index = df_edges[[\"node_from\", \"node_to\"]].values.T\n",
    "edge_index"
   ]
  },
  {
   "cell_type": "code",
   "execution_count": null,
   "metadata": {},
   "outputs": [],
   "source": [
    "# edge_attr (torch.Tensor, optional) – Edge feature matrix with shape [num_edges, num_edge_features]. (default: None)\n",
    "edge_attr = df_edges[\"link_type_int\"].to_numpy()\n",
    "edge_attr"
   ]
  },
  {
   "cell_type": "code",
   "execution_count": null,
   "metadata": {},
   "outputs": [],
   "source": [
    "# Create the data object describing a homogeneous graph \n",
    "data = Data(x=torch.tensor(x), edge_index=torch.tensor(edge_index), edge_attr=torch.tensor(edge_attr))\n",
    "\n",
    "data"
   ]
  },
  {
   "cell_type": "code",
   "execution_count": null,
   "metadata": {},
   "outputs": [],
   "source": [
    "# Validates the correctness of the data.\n",
    "data.validate()"
   ]
  },
  {
   "cell_type": "markdown",
   "metadata": {},
   "source": [
    "### PyGOD Detector Example\n",
    "\n",
    "See: https://docs.pygod.org/en/latest/tutorials/1_intro.html#sphx-glr-tutorials-1-intro-py"
   ]
  },
  {
   "cell_type": "code",
   "execution_count": null,
   "metadata": {},
   "outputs": [],
   "source": [
    "from pygod.detector import DOMINANT\n",
    "\n",
    "detector = DOMINANT(hid_dim=64, num_layers=4, epoch=100)"
   ]
  },
  {
   "cell_type": "code",
   "execution_count": null,
   "metadata": {},
   "outputs": [],
   "source": [
    "# DefaultCPUAllocator: can't allocate memory: you tried to allocate 335076584164 bytes\n",
    "# detector.fit(data)"
   ]
  },
  {
   "cell_type": "code",
   "execution_count": null,
   "metadata": {},
   "outputs": [],
   "source": []
  }
 ],
 "metadata": {
  "kernelspec": {
   "display_name": "azd_madoff",
   "language": "python",
   "name": "python3"
  },
  "language_info": {
   "codemirror_mode": {
    "name": "ipython",
    "version": 3
   },
   "file_extension": ".py",
   "mimetype": "text/x-python",
   "name": "python",
   "nbconvert_exporter": "python",
   "pygments_lexer": "ipython3",
   "version": "3.10.13"
  }
 },
 "nbformat": 4,
 "nbformat_minor": 2
}
